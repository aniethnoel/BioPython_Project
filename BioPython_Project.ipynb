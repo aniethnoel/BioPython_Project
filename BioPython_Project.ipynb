{
 "cells": [
  {
   "cell_type": "markdown",
   "id": "0a690caa-f2f3-4d59-b3a8-a528ba4d614e",
   "metadata": {
    "id": "0a690caa-f2f3-4d59-b3a8-a528ba4d614e"
   },
   "source": [
    "### BioPython_Project\n",
    "\n",
    "Name: Anieth Noel A"
   ]
  },
  {
   "cell_type": "code",
   "execution_count": null,
   "id": "9623dd32-431f-4572-a0e4-0c654046ac34",
   "metadata": {
    "colab": {
     "base_uri": "https://localhost:8080/"
    },
    "id": "9623dd32-431f-4572-a0e4-0c654046ac34",
    "outputId": "00e73fd7-1ea7-4110-8bde-a08a8d73e816"
   },
   "outputs": [
    {
     "name": "stdout",
     "output_type": "stream",
     "text": [
      "Collecting biopython\n",
      "  Downloading biopython-1.83-cp310-cp310-manylinux_2_17_x86_64.manylinux2014_x86_64.whl (3.1 MB)\n",
      "\u001b[2K     \u001b[90m━━━━━━━━━━━━━━━━━━━━━━━━━━━━━━━━━━━━━━━━\u001b[0m \u001b[32m3.1/3.1 MB\u001b[0m \u001b[31m12.0 MB/s\u001b[0m eta \u001b[36m0:00:00\u001b[0m\n",
      "\u001b[?25hRequirement already satisfied: numpy in /usr/local/lib/python3.10/dist-packages (from biopython) (1.25.2)\n",
      "Installing collected packages: biopython\n",
      "Successfully installed biopython-1.83\n"
     ]
    }
   ],
   "source": [
    "pip install biopython"
   ]
  },
  {
   "cell_type": "code",
   "execution_count": null,
   "id": "2e28d1df-636a-4a42-abe6-8294f4483414",
   "metadata": {
    "id": "2e28d1df-636a-4a42-abe6-8294f4483414"
   },
   "outputs": [],
   "source": [
    "from Bio import Entrez\n",
    "from Bio import SeqIO\n",
    "from Bio.Seq import Seq\n",
    "from Bio import SearchIO\n",
    "from Bio.Blast import NCBIWWW\n",
    "from Bio.Blast import NCBIXML"
   ]
  },
  {
   "cell_type": "markdown",
   "id": "e2de57c1-d5e3-4b7b-aeb6-a9a02211024c",
   "metadata": {
    "id": "e2de57c1-d5e3-4b7b-aeb6-a9a02211024c"
   },
   "source": [
    "### Gene Accession Number: AB000824.1"
   ]
  },
  {
   "cell_type": "markdown",
   "id": "85870065-21be-4ced-a63a-05c4d7f88fb3",
   "metadata": {
    "id": "85870065-21be-4ced-a63a-05c4d7f88fb3"
   },
   "source": [
    "**(i) Download the Gene Sequence & Save it in Fasta**"
   ]
  },
  {
   "cell_type": "code",
   "execution_count": null,
   "id": "165ff3bc-5900-4763-9b33-61d128823d6f",
   "metadata": {
    "colab": {
     "base_uri": "https://localhost:8080/"
    },
    "id": "165ff3bc-5900-4763-9b33-61d128823d6f",
    "outputId": "3b054bb2-1eb9-429d-9edb-8c450c1d1866"
   },
   "outputs": [
    {
     "name": "stdout",
     "output_type": "stream",
     "text": [
      "ID: AB000824.1\n",
      "Name: AB000824.1\n",
      "Description: AB000824.1 Homo sapiens mRNA for trehalase, complete cds\n",
      "Number of features: 0\n",
      "Seq('GAATTCCGGGCCGAAGGTGCCTGGGCTTGCTCATTCAGTCACAGTCACAGCCAC...TTC')\n"
     ]
    }
   ],
   "source": [
    "# Query of the Required Data using the Gene Accession Number\n",
    "Entrez.email= 'user_email_id'\n",
    "search=Entrez.efetch(db='nucleotide', id='AB000824.1', rettype='fasta', retmode='text')\n",
    "gene= SeqIO.read(search,'fasta')\n",
    "print(gene)"
   ]
  },
  {
   "cell_type": "code",
   "execution_count": null,
   "id": "39370ee2-3cde-4e89-ab48-0a310aa56fad",
   "metadata": {
    "colab": {
     "base_uri": "https://localhost:8080/"
    },
    "id": "39370ee2-3cde-4e89-ab48-0a310aa56fad",
    "outputId": "73a2261d-b098-4a58-e8fb-8c39975178e2"
   },
   "outputs": [
    {
     "name": "stdout",
     "output_type": "stream",
     "text": [
      "AB000824.1\n",
      "AB000824.1 Homo sapiens mRNA for trehalase, complete cds\n",
      "GAATTCCGGGCCGAAGGTGCCTGGGCTTGCTCATTCAGTCACAGTCACAGCCACCATGCCAGGGAGGACCTGGGAGCTGTGCCTGCTACTGCTGCTGGGGCTGGGACTGGGGTCCCAGGAGGCCCTACCCCCACCCTGTGAGAGTGAGATTTACTGCCACGGGGAGCTCCTAAACCAAGTTCAAATGGCCAAGCTCTACCAGGATGACAAGCAGTTTGTGGACATGCCACTGTCTATAGCTCCAGAACAAGTCCTGCAGACCTTCACTGAGCTGTCCAGGGACCACAATCACAGCATCCCCAGGGAGCAGCTGCAGGCGTTTGTCCACGAACACTTCCAGGCCAAGGGGCAGGAGCTGCAGCCCTGGACCCCTGCAGACTGGAAAGACAGCCCCCAGTTCCTGCAGAAGATTTCAGATGCCAAACTGCGTGCCTGGGCAGGGCAGCTGCATCAGCTCTGGAAGAAGCTGGGGAAGAAGATGAAGCCAGAGGTTCTCAGCCACCCTGAGCGGTTCTCTCTCATATACTCAGAACATCCTTTCATTGTGCCTGGCGGTCGCTTTGTTGAGTTCTACTACTGGGACTCCTACTGGGTCATGGAGGGTCTGCTCCTCTCAGAGATGGCTGAGACGGTGAAGGGCATGCTGCAGAACTTCTTGGACCTGGTGAAAACCTATGGGCATGTCCCCAATGGTGGGCGCGTGTACTACTTGCAGCGGAGCCAGCCCCCACTCTTGACCCTCATGATGGATTGCTACTTGACTCACACCAATGACACCGCCTTTCTACAGGAAAACATTGAAACACTAGCCTTGGAATTGGACTTTTGGACCAAGAACAGGACTGTCTCTGTGAGCTTGGAGGGAAAGAACTACCTCCTGAATCGCTATTATGTCCCTTATGGGGGACCCAGGCCTGAGTCCTACAGCAAAGATGTGGAGTTGGCTGACACCTTGCCAGAAGGAGACCGGGAGGCTCTGTGGGCTGAGCTCAAGGCTGGGGCTGAGTCTGGCTGGGACTTCTCTTCACGCTGGCTCATTGGAGGCCCAAACCCCAACTCGCTTAGCGGCATCCGAACAAGCAAACTGGTGCCTGTTGACCTGAATGCCTTCCTATGCCAAGCAGAGGAGCTGATGAGCAACTTCTATTCCAGGCTGGGGAACGACTCCCAGGCCACGAAGTACAGAATCCTGCGGTCGCAGCGCTTGGCCGCCCTGAACACAGTCCTGTGGGATGAGCAGACCGGAGCCTGGTTCGATTACGACCTTGAGAAGAAGAAGAAAAACCGGGAGTTTTACCCATCCAACCTCACTCCACTCTGGGCCGGGTGTTTCTCTGACCCTGGCGTGGCGGACAAGGCTCTGAAATACCTGGAGGACAACCGGATCCTGACTTACCAGTATGGGATCCCGACCTCTCTCCAGAAGACAGGCCAGCAGTGGGATTTCCCCAATGCCTGGGCCCCCCTGCAGGACTTGGTCATCAGAGGCCTGGCCAAGGCACCTTTACGTCGGGCCCAGGAAGTGGCTTTCCAGCTGGCTCAGAATTGGATCCGAACCAATTTTGATGTCTACTCGCAGAAGTCAGCCATGTATGAGAAGTATGACGTCAGCAACGGTGGACAGCCCGGTGGGGGAGGAGAATATGAAGTTCAGGAGGGATTTGGCTGGGACGAAGGTGTGGTCCTGATGCTGCTGGACCGCTATGGTGACCGGCTGACCTCAGGGGCCAAGCTGGCTTTCCTGGAGCCCCACTGCCTGGCGGCCACCCTTCTGCCCAGCCTCCTGCTCAGCCTCCTGCCATGGTGACAGCCCTCCTCTCCTCACCTGGCCCCAGCTCCTGCCCCCCGGAATTC\n",
      "1854\n"
     ]
    }
   ],
   "source": [
    "print(gene.id)\n",
    "print(gene.description)\n",
    "print(gene.seq)\n",
    "print(len(gene.seq))"
   ]
  },
  {
   "cell_type": "code",
   "execution_count": null,
   "id": "eb793c30-c9bc-4189-8df2-de0d30dd833f",
   "metadata": {
    "id": "eb793c30-c9bc-4189-8df2-de0d30dd833f"
   },
   "outputs": [],
   "source": [
    "# Export the Query Gene sequence as fasta file for future use\n",
    "gene_output=open('gene.fasta', 'w')\n",
    "SeqIO.write(gene,gene_output,'fasta')\n",
    "gene_output.close()"
   ]
  },
  {
   "cell_type": "code",
   "execution_count": null,
   "id": "7f1382e3-e742-4808-be52-2d0123431002",
   "metadata": {
    "id": "7f1382e3-e742-4808-be52-2d0123431002"
   },
   "outputs": [],
   "source": [
    "# Retrieving sequence only from the fasta file\n",
    "for sequence in SeqIO.parse(\"gene.fasta\",'fasta'):\n",
    "  raw_seq=sequence.seq"
   ]
  },
  {
   "cell_type": "markdown",
   "id": "689c660a-6862-4db0-974d-6ed43ea082d9",
   "metadata": {
    "id": "689c660a-6862-4db0-974d-6ed43ea082d9"
   },
   "source": [
    "**(ii) Convert it to mRNA**"
   ]
  },
  {
   "cell_type": "code",
   "execution_count": null,
   "id": "b0fdff9e-2bcf-4e25-9001-4c58c0f6ab6e",
   "metadata": {
    "colab": {
     "base_uri": "https://localhost:8080/"
    },
    "id": "b0fdff9e-2bcf-4e25-9001-4c58c0f6ab6e",
    "outputId": "ae91099d-960a-4412-fffb-2d4906bcb60d"
   },
   "outputs": [
    {
     "name": "stdout",
     "output_type": "stream",
     "text": [
      "Gene: GAATTCCGGGCCGAAGGTGCCTGGGCTTGCTCATTCAGTCACAGTCACAGCCACCATGCCAGGGAGGACCTGGGAGCTGTGCCTGCTACTGCTGCTGGGGCTGGGACTGGGGTCCCAGGAGGCCCTACCCCCACCCTGTGAGAGTGAGATTTACTGCCACGGGGAGCTCCTAAACCAAGTTCAAATGGCCAAGCTCTACCAGGATGACAAGCAGTTTGTGGACATGCCACTGTCTATAGCTCCAGAACAAGTCCTGCAGACCTTCACTGAGCTGTCCAGGGACCACAATCACAGCATCCCCAGGGAGCAGCTGCAGGCGTTTGTCCACGAACACTTCCAGGCCAAGGGGCAGGAGCTGCAGCCCTGGACCCCTGCAGACTGGAAAGACAGCCCCCAGTTCCTGCAGAAGATTTCAGATGCCAAACTGCGTGCCTGGGCAGGGCAGCTGCATCAGCTCTGGAAGAAGCTGGGGAAGAAGATGAAGCCAGAGGTTCTCAGCCACCCTGAGCGGTTCTCTCTCATATACTCAGAACATCCTTTCATTGTGCCTGGCGGTCGCTTTGTTGAGTTCTACTACTGGGACTCCTACTGGGTCATGGAGGGTCTGCTCCTCTCAGAGATGGCTGAGACGGTGAAGGGCATGCTGCAGAACTTCTTGGACCTGGTGAAAACCTATGGGCATGTCCCCAATGGTGGGCGCGTGTACTACTTGCAGCGGAGCCAGCCCCCACTCTTGACCCTCATGATGGATTGCTACTTGACTCACACCAATGACACCGCCTTTCTACAGGAAAACATTGAAACACTAGCCTTGGAATTGGACTTTTGGACCAAGAACAGGACTGTCTCTGTGAGCTTGGAGGGAAAGAACTACCTCCTGAATCGCTATTATGTCCCTTATGGGGGACCCAGGCCTGAGTCCTACAGCAAAGATGTGGAGTTGGCTGACACCTTGCCAGAAGGAGACCGGGAGGCTCTGTGGGCTGAGCTCAAGGCTGGGGCTGAGTCTGGCTGGGACTTCTCTTCACGCTGGCTCATTGGAGGCCCAAACCCCAACTCGCTTAGCGGCATCCGAACAAGCAAACTGGTGCCTGTTGACCTGAATGCCTTCCTATGCCAAGCAGAGGAGCTGATGAGCAACTTCTATTCCAGGCTGGGGAACGACTCCCAGGCCACGAAGTACAGAATCCTGCGGTCGCAGCGCTTGGCCGCCCTGAACACAGTCCTGTGGGATGAGCAGACCGGAGCCTGGTTCGATTACGACCTTGAGAAGAAGAAGAAAAACCGGGAGTTTTACCCATCCAACCTCACTCCACTCTGGGCCGGGTGTTTCTCTGACCCTGGCGTGGCGGACAAGGCTCTGAAATACCTGGAGGACAACCGGATCCTGACTTACCAGTATGGGATCCCGACCTCTCTCCAGAAGACAGGCCAGCAGTGGGATTTCCCCAATGCCTGGGCCCCCCTGCAGGACTTGGTCATCAGAGGCCTGGCCAAGGCACCTTTACGTCGGGCCCAGGAAGTGGCTTTCCAGCTGGCTCAGAATTGGATCCGAACCAATTTTGATGTCTACTCGCAGAAGTCAGCCATGTATGAGAAGTATGACGTCAGCAACGGTGGACAGCCCGGTGGGGGAGGAGAATATGAAGTTCAGGAGGGATTTGGCTGGGACGAAGGTGTGGTCCTGATGCTGCTGGACCGCTATGGTGACCGGCTGACCTCAGGGGCCAAGCTGGCTTTCCTGGAGCCCCACTGCCTGGCGGCCACCCTTCTGCCCAGCCTCCTGCTCAGCCTCCTGCCATGGTGACAGCCCTCCTCTCCTCACCTGGCCCCAGCTCCTGCCCCCCGGAATTC\n",
      "mRNA: GAAUUCCGGGCCGAAGGUGCCUGGGCUUGCUCAUUCAGUCACAGUCACAGCCACCAUGCCAGGGAGGACCUGGGAGCUGUGCCUGCUACUGCUGCUGGGGCUGGGACUGGGGUCCCAGGAGGCCCUACCCCCACCCUGUGAGAGUGAGAUUUACUGCCACGGGGAGCUCCUAAACCAAGUUCAAAUGGCCAAGCUCUACCAGGAUGACAAGCAGUUUGUGGACAUGCCACUGUCUAUAGCUCCAGAACAAGUCCUGCAGACCUUCACUGAGCUGUCCAGGGACCACAAUCACAGCAUCCCCAGGGAGCAGCUGCAGGCGUUUGUCCACGAACACUUCCAGGCCAAGGGGCAGGAGCUGCAGCCCUGGACCCCUGCAGACUGGAAAGACAGCCCCCAGUUCCUGCAGAAGAUUUCAGAUGCCAAACUGCGUGCCUGGGCAGGGCAGCUGCAUCAGCUCUGGAAGAAGCUGGGGAAGAAGAUGAAGCCAGAGGUUCUCAGCCACCCUGAGCGGUUCUCUCUCAUAUACUCAGAACAUCCUUUCAUUGUGCCUGGCGGUCGCUUUGUUGAGUUCUACUACUGGGACUCCUACUGGGUCAUGGAGGGUCUGCUCCUCUCAGAGAUGGCUGAGACGGUGAAGGGCAUGCUGCAGAACUUCUUGGACCUGGUGAAAACCUAUGGGCAUGUCCCCAAUGGUGGGCGCGUGUACUACUUGCAGCGGAGCCAGCCCCCACUCUUGACCCUCAUGAUGGAUUGCUACUUGACUCACACCAAUGACACCGCCUUUCUACAGGAAAACAUUGAAACACUAGCCUUGGAAUUGGACUUUUGGACCAAGAACAGGACUGUCUCUGUGAGCUUGGAGGGAAAGAACUACCUCCUGAAUCGCUAUUAUGUCCCUUAUGGGGGACCCAGGCCUGAGUCCUACAGCAAAGAUGUGGAGUUGGCUGACACCUUGCCAGAAGGAGACCGGGAGGCUCUGUGGGCUGAGCUCAAGGCUGGGGCUGAGUCUGGCUGGGACUUCUCUUCACGCUGGCUCAUUGGAGGCCCAAACCCCAACUCGCUUAGCGGCAUCCGAACAAGCAAACUGGUGCCUGUUGACCUGAAUGCCUUCCUAUGCCAAGCAGAGGAGCUGAUGAGCAACUUCUAUUCCAGGCUGGGGAACGACUCCCAGGCCACGAAGUACAGAAUCCUGCGGUCGCAGCGCUUGGCCGCCCUGAACACAGUCCUGUGGGAUGAGCAGACCGGAGCCUGGUUCGAUUACGACCUUGAGAAGAAGAAGAAAAACCGGGAGUUUUACCCAUCCAACCUCACUCCACUCUGGGCCGGGUGUUUCUCUGACCCUGGCGUGGCGGACAAGGCUCUGAAAUACCUGGAGGACAACCGGAUCCUGACUUACCAGUAUGGGAUCCCGACCUCUCUCCAGAAGACAGGCCAGCAGUGGGAUUUCCCCAAUGCCUGGGCCCCCCUGCAGGACUUGGUCAUCAGAGGCCUGGCCAAGGCACCUUUACGUCGGGCCCAGGAAGUGGCUUUCCAGCUGGCUCAGAAUUGGAUCCGAACCAAUUUUGAUGUCUACUCGCAGAAGUCAGCCAUGUAUGAGAAGUAUGACGUCAGCAACGGUGGACAGCCCGGUGGGGGAGGAGAAUAUGAAGUUCAGGAGGGAUUUGGCUGGGACGAAGGUGUGGUCCUGAUGCUGCUGGACCGCUAUGGUGACCGGCUGACCUCAGGGGCCAAGCUGGCUUUCCUGGAGCCCCACUGCCUGGCGGCCACCCUUCUGCCCAGCCUCCUGCUCAGCCUCCUGCCAUGGUGACAGCCCUCCUCUCCUCACCUGGCCCCAGCUCCUGCCCCCCGGAAUUC\n"
     ]
    }
   ],
   "source": [
    "# Convert the retrieved sequence to mRNA\n",
    "convert_mrna = raw_seq.transcribe()\n",
    "print (\"Gene:\", raw_seq)\n",
    "print (\"mRNA:\", convert_mrna)"
   ]
  },
  {
   "cell_type": "markdown",
   "id": "26573102-494e-4520-b125-550160113912",
   "metadata": {
    "id": "26573102-494e-4520-b125-550160113912"
   },
   "source": [
    "**(iii) Translate the gene to protein sequence – Vary the ORF**"
   ]
  },
  {
   "cell_type": "code",
   "execution_count": null,
   "id": "2e214a14-3edc-4c93-a8b7-fb5ca2207cad",
   "metadata": {
    "colab": {
     "base_uri": "https://localhost:8080/"
    },
    "id": "2e214a14-3edc-4c93-a8b7-fb5ca2207cad",
    "outputId": "1a149701-18bd-4193-cf1e-9015840fcff8"
   },
   "outputs": [
    {
     "name": "stdout",
     "output_type": "stream",
     "text": [
      "EFRAEGAWACSFSHSHSHHAREDLGAVPATAAGAGTGVPGGPTPTL\n",
      "IPGRRCLGLLIQSQSQPPCQGGPGSCACYCCWGWDWGPRRPYPHPVRVRFTATGSS\n",
      "AEGAWACSFSHSHSHHAREDLGAVPATAAGAGTGVPGGPTPTL\n"
     ]
    }
   ],
   "source": [
    "# Translate the gene to protein Sequence\n",
    "print(raw_seq.translate(to_stop=True))\n",
    "\n",
    "#Vary the ORF\n",
    "print(raw_seq[2:].translate(to_stop=True))\n",
    "print(raw_seq[9:].translate(to_stop=True))"
   ]
  },
  {
   "cell_type": "markdown",
   "id": "3d9a6836-9937-4390-8529-37462a88b740",
   "metadata": {
    "id": "3d9a6836-9937-4390-8529-37462a88b740"
   },
   "source": [
    "**(iv) Design Forward & Reverse Primer of 30 Nucleotide for this gene**"
   ]
  },
  {
   "cell_type": "code",
   "execution_count": null,
   "id": "ad317b5a-703f-4de1-83ad-5b70eed430be",
   "metadata": {
    "colab": {
     "base_uri": "https://localhost:8080/"
    },
    "id": "ad317b5a-703f-4de1-83ad-5b70eed430be",
    "outputId": "f1b3a8a4-60bf-4016-a30d-14221682f290"
   },
   "outputs": [
    {
     "name": "stdout",
     "output_type": "stream",
     "text": [
      "Sequence: GAATTCCGGGCCGAAGGTGCCTGGGCTTGCTCATTCAGTCACAGTCACAGCCACCATGCCAGGGAGGACCTGGGAGCTGTGCCTGCTACTGCTGCTGGGGCTGGGACTGGGGTCCCAGGAGGCCCTACCCCCACCCTGTGAGAGTGAGATTTACTGCCACGGGGAGCTCCTAAACCAAGTTCAAATGGCCAAGCTCTACCAGGATGACAAGCAGTTTGTGGACATGCCACTGTCTATAGCTCCAGAACAAGTCCTGCAGACCTTCACTGAGCTGTCCAGGGACCACAATCACAGCATCCCCAGGGAGCAGCTGCAGGCGTTTGTCCACGAACACTTCCAGGCCAAGGGGCAGGAGCTGCAGCCCTGGACCCCTGCAGACTGGAAAGACAGCCCCCAGTTCCTGCAGAAGATTTCAGATGCCAAACTGCGTGCCTGGGCAGGGCAGCTGCATCAGCTCTGGAAGAAGCTGGGGAAGAAGATGAAGCCAGAGGTTCTCAGCCACCCTGAGCGGTTCTCTCTCATATACTCAGAACATCCTTTCATTGTGCCTGGCGGTCGCTTTGTTGAGTTCTACTACTGGGACTCCTACTGGGTCATGGAGGGTCTGCTCCTCTCAGAGATGGCTGAGACGGTGAAGGGCATGCTGCAGAACTTCTTGGACCTGGTGAAAACCTATGGGCATGTCCCCAATGGTGGGCGCGTGTACTACTTGCAGCGGAGCCAGCCCCCACTCTTGACCCTCATGATGGATTGCTACTTGACTCACACCAATGACACCGCCTTTCTACAGGAAAACATTGAAACACTAGCCTTGGAATTGGACTTTTGGACCAAGAACAGGACTGTCTCTGTGAGCTTGGAGGGAAAGAACTACCTCCTGAATCGCTATTATGTCCCTTATGGGGGACCCAGGCCTGAGTCCTACAGCAAAGATGTGGAGTTGGCTGACACCTTGCCAGAAGGAGACCGGGAGGCTCTGTGGGCTGAGCTCAAGGCTGGGGCTGAGTCTGGCTGGGACTTCTCTTCACGCTGGCTCATTGGAGGCCCAAACCCCAACTCGCTTAGCGGCATCCGAACAAGCAAACTGGTGCCTGTTGACCTGAATGCCTTCCTATGCCAAGCAGAGGAGCTGATGAGCAACTTCTATTCCAGGCTGGGGAACGACTCCCAGGCCACGAAGTACAGAATCCTGCGGTCGCAGCGCTTGGCCGCCCTGAACACAGTCCTGTGGGATGAGCAGACCGGAGCCTGGTTCGATTACGACCTTGAGAAGAAGAAGAAAAACCGGGAGTTTTACCCATCCAACCTCACTCCACTCTGGGCCGGGTGTTTCTCTGACCCTGGCGTGGCGGACAAGGCTCTGAAATACCTGGAGGACAACCGGATCCTGACTTACCAGTATGGGATCCCGACCTCTCTCCAGAAGACAGGCCAGCAGTGGGATTTCCCCAATGCCTGGGCCCCCCTGCAGGACTTGGTCATCAGAGGCCTGGCCAAGGCACCTTTACGTCGGGCCCAGGAAGTGGCTTTCCAGCTGGCTCAGAATTGGATCCGAACCAATTTTGATGTCTACTCGCAGAAGTCAGCCATGTATGAGAAGTATGACGTCAGCAACGGTGGACAGCCCGGTGGGGGAGGAGAATATGAAGTTCAGGAGGGATTTGGCTGGGACGAAGGTGTGGTCCTGATGCTGCTGGACCGCTATGGTGACCGGCTGACCTCAGGGGCCAAGCTGGCTTTCCTGGAGCCCCACTGCCTGGCGGCCACCCTTCTGCCCAGCCTCCTGCTCAGCCTCCTGCCATGGTGACAGCCCTCCTCTCCTCACCTGGCCCCAGCTCCTGCCCCCCGGAATTC\n",
      "Forward Primer: CTTAAGGCCCGGCTTCCACGGACCCGAACG\n",
      "Reverse Primer: GGACCGGGGTCGAGGACGGGGGGCCTTAAG\n"
     ]
    }
   ],
   "source": [
    "# Design Forward and Backward primer of 30 Nucleotide\n",
    "my_seq=gene.seq\n",
    "print(\"Sequence:\",my_seq)\n",
    "print (\"Forward Primer:\", my_seq.complement() [:30])\n",
    "print(\"Reverse Primer:\",my_seq.complement() [-30:])"
   ]
  },
  {
   "cell_type": "markdown",
   "id": "5fea5e6b-7188-4f1a-8726-9a1d79ce39c4",
   "metadata": {
    "id": "5fea5e6b-7188-4f1a-8726-9a1d79ce39c4"
   },
   "source": [
    "**(v) From the Genbank file, get the protein id and download the protein sequence**"
   ]
  },
  {
   "cell_type": "code",
   "execution_count": null,
   "id": "944ef684-cef9-4637-b625-9367b517cdb4",
   "metadata": {
    "colab": {
     "base_uri": "https://localhost:8080/"
    },
    "id": "944ef684-cef9-4637-b625-9367b517cdb4",
    "outputId": "650314f4-441d-42e7-f052-43e9ad88f9bf"
   },
   "outputs": [
    {
     "name": "stdout",
     "output_type": "stream",
     "text": [
      "ID: AB000824.1\n",
      "Name: AB000824\n",
      "Description: Homo sapiens mRNA for trehalase, complete cds\n",
      "Number of features: 2\n",
      "/molecule_type=mRNA\n",
      "/topology=linear\n",
      "/data_file_division=PRI\n",
      "/date=05-FEB-1999\n",
      "/accessions=['AB000824']\n",
      "/sequence_version=1\n",
      "/keywords=['trehalase']\n",
      "/source=Homo sapiens (human)\n",
      "/organism=Homo sapiens\n",
      "/taxonomy=['Eukaryota', 'Metazoa', 'Chordata', 'Craniata', 'Vertebrata', 'Euteleostomi', 'Mammalia', 'Eutheria', 'Euarchontoglires', 'Primates', 'Haplorrhini', 'Catarrhini', 'Hominidae', 'Homo']\n",
      "/references=[Reference(title='Molecular cloning, sequencing and expression of cDNA encoding human trehalase', ...), Reference(title='Direct Submission', ...)]\n",
      "Seq('GAATTCCGGGCCGAAGGTGCCTGGGCTTGCTCATTCAGTCACAGTCACAGCCAC...TTC')\n"
     ]
    }
   ],
   "source": [
    "# Query of the Required Data using the Gene Accession Number as genbank format\n",
    "genbank_search=Entrez.efetch(db='nucleotide', id='AB000824.1', rettype='gb', retmode='text')\n",
    "genbank_format= SeqIO.read(genbank_search,'gb')\n",
    "print(genbank_format)"
   ]
  },
  {
   "cell_type": "code",
   "execution_count": null,
   "id": "d3151e6b-e1e7-47a9-8e15-2d2c47e42c97",
   "metadata": {
    "colab": {
     "base_uri": "https://localhost:8080/"
    },
    "id": "d3151e6b-e1e7-47a9-8e15-2d2c47e42c97",
    "outputId": "aa34b862-cc87-47ce-deb0-6d6539252bd8"
   },
   "outputs": [
    {
     "data": {
      "text/plain": [
       "2"
      ]
     },
     "execution_count": 58,
     "metadata": {},
     "output_type": "execute_result"
    }
   ],
   "source": [
    "len (genbank_format.features)"
   ]
  },
  {
   "cell_type": "code",
   "execution_count": null,
   "id": "1c106073-76b1-4039-9b7b-57ca88e96fa5",
   "metadata": {
    "colab": {
     "base_uri": "https://localhost:8080/"
    },
    "id": "1c106073-76b1-4039-9b7b-57ca88e96fa5",
    "outputId": "b8dfccee-bd24-4672-857f-0af8167b1275"
   },
   "outputs": [
    {
     "name": "stdout",
     "output_type": "stream",
     "text": [
      "type: CDS\n",
      "location: [55:1807](+)\n",
      "qualifiers:\n",
      "    Key: codon_start, Value: ['1']\n",
      "    Key: product, Value: ['trehalase']\n",
      "    Key: protein_id, Value: ['BAA24381.1']\n",
      "    Key: translation, Value: ['MPGRTWELCLLLLLGLGLGSQEALPPPCESEIYCHGELLNQVQMAKLYQDDKQFVDMPLSIAPEQVLQTFTELSRDHNHSIPREQLQAFVHEHFQAKGQELQPWTPADWKDSPQFLQKISDAKLRAWAGQLHQLWKKLGKKMKPEVLSHPERFSLIYSEHPFIVPGGRFVEFYYWDSYWVMEGLLLSEMAETVKGMLQNFLDLVKTYGHVPNGGRVYYLQRSQPPLLTLMMDCYLTHTNDTAFLQENIETLALELDFWTKNRTVSVSLEGKNYLLNRYYVPYGGPRPESYSKDVELADTLPEGDREALWAELKAGAESGWDFSSRWLIGGPNPNSLSGIRTSKLVPVDLNAFLCQAEELMSNFYSRLGNDSQATKYRILRSQRLAALNTVLWDEQTGAWFDYDLEKKKKNREFYPSNLTPLWAGCFSDPGVADKALKYLEDNRILTYQYGIPTSLQKTGQQWDFPNAWAPLQDLVIRGLAKAPLRRAQEVAFQLAQNWIRTNFDVYSQKSAMYEKYDVSNGGQPGGGGEYEVQEGFGWDEGVVLMLLDRYGDRLTSGAKLAFLEPHCLAATLLPSLLLSLLPW']\n",
      "\n"
     ]
    }
   ],
   "source": [
    "print (genbank_format.features [1])"
   ]
  },
  {
   "cell_type": "code",
   "execution_count": null,
   "id": "e4762d79-4304-4df3-b00c-c0c73f958375",
   "metadata": {
    "colab": {
     "base_uri": "https://localhost:8080/"
    },
    "id": "e4762d79-4304-4df3-b00c-c0c73f958375",
    "outputId": "a87d375a-276d-45b1-d663-0344defa51ab"
   },
   "outputs": [
    {
     "name": "stdout",
     "output_type": "stream",
     "text": [
      "Protein ID: BAA24381.1\n",
      "Protein Sequence: MPGRTWELCLLLLLGLGLGSQEALPPPCESEIYCHGELLNQVQMAKLYQDDKQFVDMPLSIAPEQVLQTFTELSRDHNHSIPREQLQAFVHEHFQAKGQELQPWTPADWKDSPQFLQKISDAKLRAWAGQLHQLWKKLGKKMKPEVLSHPERFSLIYSEHPFIVPGGRFVEFYYWDSYWVMEGLLLSEMAETVKGMLQNFLDLVKTYGHVPNGGRVYYLQRSQPPLLTLMMDCYLTHTNDTAFLQENIETLALELDFWTKNRTVSVSLEGKNYLLNRYYVPYGGPRPESYSKDVELADTLPEGDREALWAELKAGAESGWDFSSRWLIGGPNPNSLSGIRTSKLVPVDLNAFLCQAEELMSNFYSRLGNDSQATKYRILRSQRLAALNTVLWDEQTGAWFDYDLEKKKKNREFYPSNLTPLWAGCFSDPGVADKALKYLEDNRILTYQYGIPTSLQKTGQQWDFPNAWAPLQDLVIRGLAKAPLRRAQEVAFQLAQNWIRTNFDVYSQKSAMYEKYDVSNGGQPGGGGEYEVQEGFGWDEGVVLMLLDRYGDRLTSGAKLAFLEPHCLAATLLPSLLLSLLPW\n"
     ]
    }
   ],
   "source": [
    "# Retrieving the Protein Id and Protein Sequence from the Genbank File\n",
    "protein_sequence = None\n",
    "for details in genbank_format.features:\n",
    "    if details.type == \"CDS\":\n",
    "        protein_id = details.qualifiers[\"protein_id\"][0]\n",
    "        protein_sequence = details.qualifiers[\"translation\"][0]\n",
    "        break\n",
    "\n",
    "if protein_sequence:\n",
    "    print(\"Protein ID:\", protein_id)\n",
    "    print(\"Protein Sequence:\", protein_sequence)\n",
    "else:\n",
    "    print(\"No protein id found.\")\n",
    "    print(\"No protein sequence found.\")"
   ]
  },
  {
   "cell_type": "code",
   "execution_count": null,
   "id": "5f8bdd69-08e3-4e3f-920e-2245d3d8ff33",
   "metadata": {
    "id": "5f8bdd69-08e3-4e3f-920e-2245d3d8ff33"
   },
   "outputs": [],
   "source": [
    "# Export the Query Protein sequence as fasta file for future use\n",
    "def fasta (output_file):\n",
    "    with open(output_file, 'w') as f_out:\n",
    "        sequence = protein_sequence\n",
    "        prot_id = protein_id\n",
    "        f_out.write(f'>{prot_id}\\n')\n",
    "        f_out.write(sequence + '\\n')\n",
    "\n",
    "output_file = ('protein_sequence_output.fasta')\n",
    "\n",
    "fasta(output_file)"
   ]
  },
  {
   "cell_type": "code",
   "execution_count": null,
   "id": "eed645e2-8514-4682-8562-ed5c23b1a9fa",
   "metadata": {
    "colab": {
     "base_uri": "https://localhost:8080/"
    },
    "id": "eed645e2-8514-4682-8562-ed5c23b1a9fa",
    "outputId": "7a94c386-01b5-4882-daf1-c470d78e9f7c"
   },
   "outputs": [
    {
     "data": {
      "text/plain": [
       "583"
      ]
     },
     "execution_count": 62,
     "metadata": {},
     "output_type": "execute_result"
    }
   ],
   "source": [
    "len (protein_sequence)"
   ]
  },
  {
   "cell_type": "markdown",
   "id": "ffaf537a-a2ed-4264-82b8-b6db0408aed1",
   "metadata": {
    "id": "ffaf537a-a2ed-4264-82b8-b6db0408aed1"
   },
   "source": [
    "**(vi) Extract the catalytic domain of this protein (use interproscan to get the domain info)**"
   ]
  },
  {
   "cell_type": "code",
   "execution_count": null,
   "id": "70e1f8f5-916f-4cc1-ac53-7f6379bf032e",
   "metadata": {
    "id": "70e1f8f5-916f-4cc1-ac53-7f6379bf032e"
   },
   "outputs": [],
   "source": [
    "from Bio import SearchIO"
   ]
  },
  {
   "cell_type": "code",
   "execution_count": null,
   "id": "bcdc7cab-2f5d-48d5-88aa-316202871988",
   "metadata": {
    "colab": {
     "base_uri": "https://localhost:8080/"
    },
    "id": "bcdc7cab-2f5d-48d5-88aa-316202871988",
    "outputId": "ae7e5cb2-6b61-4325-8479-d4767a03839c"
   },
   "outputs": [
    {
     "name": "stdout",
     "output_type": "stream",
     "text": [
      "Program: InterProScan (5.67-99.0)\n",
      "  Query: BAA24381.1\n",
      "         BAA24381.1\n",
      " Target: InterPro\n",
      "   Hits: ----  -----  ----------------------------------------------------------\n",
      "            #  # HSP  ID + description\n",
      "         ----  -----  ----------------------------------------------------------\n",
      "            0      7  PR00744  Glycosyl hydrolase family 37 signature\n",
      "            1      1  G3DSA:1.50.10.10:FF:000034  Trehalase\n",
      "            2      1  G3DSA:1.50.10.10  <unknown description>\n",
      "            3      1  PF01204  Trehalase\n",
      "            4      1  PTHR23403  <unknown description>\n",
      "            5      1  PS00928  Trehalase signature 2.\n",
      "            6      1  PS00927  Trehalase signature 1.\n",
      "            7      1  SIGNAL_PEPTIDE  Signal peptide region\n",
      "            8      1  SIGNAL_PEPTIDE_N_REGION  N-terminal region of a signal ...\n",
      "            9      1  NON_CYTOPLASMIC_DOMAIN  Region of a membrane-bound prot...\n",
      "           10      1  SIGNAL_PEPTIDE_C_REGION  C-terminal region of a signal ...\n",
      "           11      1  SIGNAL_PEPTIDE_H_REGION  Hydrophobic region of a signal...\n",
      "           12      1  SignalP-noTM  <unknown description>\n",
      "           13      1  SSF48208  <unknown description>\n"
     ]
    }
   ],
   "source": [
    "# Analyze the QueryResult from the InterProScan as xml format\n",
    "input_file = \"interproscan_output.xml\"\n",
    "interproscan_records = SearchIO.parse(input_file, \"interproscan-xml\")\n",
    "\n",
    "for record in interproscan_records:\n",
    "    print(record)"
   ]
  },
  {
   "cell_type": "code",
   "execution_count": null,
   "id": "21fc9cb5-6d3c-4d87-a264-e952e2f8d471",
   "metadata": {
    "colab": {
     "base_uri": "https://localhost:8080/"
    },
    "id": "21fc9cb5-6d3c-4d87-a264-e952e2f8d471",
    "outputId": "2d00ecac-7a26-40af-a9e8-1db501ccbb25"
   },
   "outputs": [
    {
     "data": {
      "text/plain": [
       "Hit(id='PF01204', query_id='BAA24381.1', 1 hsps)"
      ]
     },
     "execution_count": 65,
     "metadata": {},
     "output_type": "execute_result"
    }
   ],
   "source": [
    "record [3]"
   ]
  },
  {
   "cell_type": "code",
   "execution_count": null,
   "id": "d7f3d8f9-bd4f-45dd-89db-7f7934b34c63",
   "metadata": {
    "colab": {
     "base_uri": "https://localhost:8080/"
    },
    "id": "d7f3d8f9-bd4f-45dd-89db-7f7934b34c63",
    "outputId": "3850ed1a-18cc-4fe2-9b5f-64ef0298a0f7"
   },
   "outputs": [
    {
     "name": "stdout",
     "output_type": "stream",
     "text": [
      "Query: BAA24381.1\n",
      "       BAA24381.1\n",
      "  Hit: PF01204\n",
      "       Trehalase\n",
      " Hit type: hmmer3\n",
      " Target: PFAM\n",
      " Target version: 36.0\n",
      "Database cross-references: IPR:IPR001661, GO:0004555, GO:0005991, MetaCyc:PWY-5976, MetaCyc:PWY-7256, MetaCyc:PWY-1921, Reactome:R-HSA-189085, MetaCyc:PWY-7134, MetaCyc:PWY-7133, MetaCyc:PWY-6527, MetaCyc:PWY-7091, MetaCyc:PWY-8435, MetaCyc:PWY-8366, MetaCyc:PWY-6848, MetaCyc:PWY-6749, MetaCyc:PWY-6821, MetaCyc:PWY-7491, MetaCyc:PWY-8436, MetaCyc:PWY-6737, MetaCyc:PWY-7056, MetaCyc:PWY-7647, MetaCyc:PWY-6972, MetaCyc:PWY-7445, MetaCyc:PWY-7057, MetaCyc:PWY-6717, MetaCyc:PWY-7529, MetaCyc:PWY-6735, MetaCyc:PWY-5821, MetaCyc:PWY-6906, MetaCyc:PWY-7074, MetaCyc:PWY-842, MetaCyc:PWY-6784, MetaCyc:PWY-862, MetaCyc:PWY-6855\n",
      " HSPs: ----  --------  ---------  ------  ---------------  ---------------------\n",
      "          #   E-value  Bit score    Span      Query range              Hit range\n",
      "       ----  --------  ---------  ------  ---------------  ---------------------\n",
      "          0         0     649.60     506         [45:551]                [0:509]\n"
     ]
    }
   ],
   "source": [
    "c_domain = record [3]\n",
    "print (c_domain)"
   ]
  },
  {
   "cell_type": "markdown",
   "id": "d28e0b9b-09db-4976-b2ce-8a74ef948b56",
   "metadata": {
    "id": "d28e0b9b-09db-4976-b2ce-8a74ef948b56"
   },
   "source": [
    "**(vii) Run BlastP of the domain sequence**"
   ]
  },
  {
   "cell_type": "code",
   "execution_count": null,
   "id": "32aff7bd-7778-43d7-8e44-ee2f0530967c",
   "metadata": {
    "colab": {
     "base_uri": "https://localhost:8080/"
    },
    "id": "32aff7bd-7778-43d7-8e44-ee2f0530967c",
    "outputId": "76190f9c-0163-4937-de6e-c17b3ec2a8d2"
   },
   "outputs": [
    {
     "name": "stdout",
     "output_type": "stream",
     "text": [
      "KLYQDDKQFVDMPLSIAPEQVLQTFTELSRDHNHSIPREQLQAFVHEHFQAKGQELQPWTPADWKDSPQFLQKISDAKLRAWAGQLHQLWKKLGKKMKPEVLSHPERFSLIYSEHPFIVPGGRFVEFYYWDSYWVMEGLLLSEMAETVKGMLQNFLDLVKTYGHVPNGGRVYYLQRSQPPLLTLMMDCYLTHTNDTAFLQENIETLALELDFWTKNRTVSVSLEGKNYLLNRYYVPYGGPRPESYSKDVELADTLPEGDREALWAELKAGAESGWDFSSRWLIGGPNPNSLSGIRTSKLVPVDLNAFLCQAEELMSNFYSRLGNDSQATKYRILRSQRLAALNTVLWDEQTGAWFDYDLEKKKKNREFYPSNLTPLWAGCFSDPGVADKALKYLEDNRILTYQYGIPTSLQKTGQQWDFPNAWAPLQDLVIRGLAKAPLRRAQEVAFQLAQNWIRTNFDVYSQKSAMYEKYDVSNGGQPGGGGEYEVQEGFGWDEGVVLMLLDRYG\n"
     ]
    }
   ],
   "source": [
    "# Extract Domain Sequence from the Raw Protein Sequence\n",
    "domain_sequence = protein_sequence[45:551]\n",
    "print (domain_sequence)"
   ]
  },
  {
   "cell_type": "code",
   "execution_count": null,
   "id": "c9ed52b9-fcce-460c-9c72-a2f35b41acdd",
   "metadata": {
    "id": "c9ed52b9-fcce-460c-9c72-a2f35b41acdd"
   },
   "outputs": [],
   "source": [
    "# Export the domain sequence as fasta file for blastp\n",
    "def dom_fasta (output_file):\n",
    "    with open(output_file, 'w') as out:\n",
    "        sequence = domain_sequence\n",
    "        prot_name = \"domain_sequence\"\n",
    "        out.write(f'>{prot_name}\\n')\n",
    "        out.write(sequence + '\\n')\n",
    "\n",
    "output_file = 'domain_sequence_output.fasta'\n",
    "\n",
    "dom_fasta(output_file)"
   ]
  },
  {
   "cell_type": "code",
   "execution_count": null,
   "id": "2abc363c-9b9f-4a20-92af-2a72967a5e6e",
   "metadata": {
    "id": "2abc363c-9b9f-4a20-92af-2a72967a5e6e"
   },
   "outputs": [],
   "source": [
    "# Bio.Blast and NCBIWWW are used for BLAST Query\n",
    "from Bio.Blast import NCBIWWW\n",
    "from Bio import SeqIO\n",
    "\n",
    "# Load your query sequence\n",
    "query_sequence = SeqIO.read(\"domain_sequence_output.fasta\", format=\"fasta\")\n",
    "\n",
    "# Perform BLASTP\n",
    "result_handle = NCBIWWW.qblast(\"blastp\", \"nr\", query_sequence.seq)\n",
    "\n",
    "# Write the results to a xml file\n",
    "with open(\"domain_sequence_blastp_results.xml\", \"w\") as out_handle:\n",
    "    out_handle.write(result_handle.read())\n",
    "\n",
    "# Close the result handle\n",
    "result_handle.close()"
   ]
  },
  {
   "cell_type": "code",
   "execution_count": null,
   "id": "92c46a55-a11f-4797-b539-7abfc938678d",
   "metadata": {
    "colab": {
     "base_uri": "https://localhost:8080/"
    },
    "id": "92c46a55-a11f-4797-b539-7abfc938678d",
    "outputId": "3ed08176-a5b6-41c3-c6fe-31d5a86e465b"
   },
   "outputs": [
    {
     "name": "stdout",
     "output_type": "stream",
     "text": [
      "Program: blastp (2.15.0+)\n",
      "  Query: unnamed (506)\n",
      "         protein product\n",
      " Target: nr\n",
      "   Hits: ----  -----  ----------------------------------------------------------\n",
      "            #  # HSP  ID + description\n",
      "         ----  -----  ----------------------------------------------------------\n",
      "            0      1  dbj|BAA24381.1|  trehalase [Homo sapiens]\n",
      "            1      1  ref|NP_009111.2|  trehalase isoform 1 precursor [Homo s...\n",
      "            2      1  ref|XP_003820082.3|  trehalase [Pan paniscus]\n",
      "            3      1  ref|XP_522200.2|  trehalase isoform X2 [Pan troglodytes]\n",
      "            4      1  ref|XP_054297038.2|  trehalase [Pongo pygmaeus]\n",
      "            5      1  ref|XP_004052272.4|  trehalase [Gorilla gorilla gorilla]\n",
      "            6      1  ref|XP_002822604.1|  trehalase [Pongo abelii]\n",
      "            7      1  ref|XP_003253298.1|  trehalase isoform X1 [Nomascus leu...\n",
      "            8      1  ref|XP_032023519.1|  trehalase [Hylobates moloch]\n",
      "            9      1  ref|XP_055129362.1|  trehalase isoform X1 [Symphalangus...\n",
      "           10      1  ref|XP_031508765.1|  trehalase isoform X2 [Papio anubis]\n",
      "           11      1  ref|XP_011820281.1|  PREDICTED: trehalase isoform X1 [M...\n",
      "           12      1  ref|XP_003910841.3|  trehalase isoform X1 [Papio anubis]\n",
      "           13      1  ref|XP_011908381.1|  PREDICTED: trehalase isoform X1 [C...\n",
      "           14      1  ref|XP_024646805.1|  trehalase isoform X2 [Macaca nemes...\n",
      "           15      1  ref|XP_008019282.2|  trehalase [Chlorocebus sabaeus]\n",
      "           16      1  ref|XP_014971362.2|  trehalase isoform X1 [Macaca mulatta]\n",
      "           17      1  ref|XP_050614362.1|  trehalase isoform X1 [Macaca thibe...\n",
      "           18      1  ref|XP_025211781.1|  trehalase isoform X1 [Theropithecu...\n",
      "           19      1  ref|XP_005579882.1|  PREDICTED: trehalase [Macaca fasci...\n",
      "           20      1  ref|XP_005579882.2|  trehalase [Macaca fascicularis]\n",
      "           21      1  gb|EHH23488.1|  hypothetical protein EGK_06963 [Macaca ...\n",
      "           22      1  ref|XP_024646804.1|  trehalase isoform X1 [Macaca nemes...\n",
      "           23      1  ref|XP_009185674.2|  trehalase isoform X3 [Papio anubis]\n",
      "           24      1  ref|XP_028689880.1|  trehalase isoform X2 [Macaca mulatta]\n",
      "           25      1  ref|XP_009185675.2|  trehalase isoform X4 [Papio anubis]\n",
      "           26      1  ref|XP_050614364.1|  trehalase isoform X3 [Macaca thibe...\n",
      "           27      1  ref|XP_011908382.1|  PREDICTED: trehalase isoform X2 [C...\n",
      "           28      1  ref|XP_011782432.1|  PREDICTED: LOW QUALITY PROTEIN: tr...\n",
      "           29      1  gb|EHH62566.1|  hypothetical protein EGM_20924 [Macaca ...\n",
      "           ~~~\n",
      "           47      1  ref|XP_012510853.1|  PREDICTED: trehalase isoform X1 [P...\n",
      "           48      1  ref|XP_008562861.1|  PREDICTED: trehalase-like, partial...\n",
      "           49      1  ref|XP_008573156.1|  PREDICTED: trehalase [Galeopterus ...\n"
     ]
    }
   ],
   "source": [
    "# Analyze the QueryResult from the BLASTP as xml format\n",
    "input_file = \"domain_sequence_blastp_results.xml\"\n",
    "blastp_records = SearchIO.parse(input_file, \"blast-xml\")\n",
    "\n",
    "for blastprecord in blastp_records:\n",
    "    print(blastprecord)"
   ]
  },
  {
   "cell_type": "code",
   "execution_count": null,
   "id": "c37b6deb-417f-43a8-8e16-9ff67ef78f87",
   "metadata": {
    "colab": {
     "base_uri": "https://localhost:8080/"
    },
    "id": "c37b6deb-417f-43a8-8e16-9ff67ef78f87",
    "outputId": "8211550f-477a-472f-9e93-4bd439a91218"
   },
   "outputs": [
    {
     "data": {
      "text/plain": [
       "Hit(id='ref|XP_054297038.2|', query_id='unnamed', 1 hsps)"
      ]
     },
     "execution_count": 35,
     "metadata": {},
     "output_type": "execute_result"
    }
   ],
   "source": [
    "blastprecord [4]"
   ]
  },
  {
   "cell_type": "code",
   "execution_count": null,
   "id": "d67889db-e72c-4390-9584-2454064e4d56",
   "metadata": {
    "colab": {
     "base_uri": "https://localhost:8080/"
    },
    "id": "d67889db-e72c-4390-9584-2454064e4d56",
    "outputId": "ee120cd3-2727-40b7-982d-309a17fcc503"
   },
   "outputs": [
    {
     "name": "stdout",
     "output_type": "stream",
     "text": [
      "['BAA24381.1', 'NP_009111.2', 'XP_003820082.3', 'XP_522200.2', 'XP_054297038.2', 'XP_004052272.4', 'XP_002822604.1', 'XP_003253298.1', 'XP_032023519.1', 'XP_055129362.1', 'XP_031508765.1', 'XP_011820281.1', 'XP_003910841.3', 'XP_011908381.1', 'XP_024646805.1', 'XP_008019282.2', 'XP_014971362.2', 'XP_050614362.1', 'XP_025211781.1', 'XP_005579882.1', 'XP_005579882.2', 'EHH23488.1', 'XP_024646804.1', 'XP_009185674.2', 'XP_028689880.1', 'XP_009185675.2', 'XP_050614364.1', 'XP_011908382.1', 'XP_011782432.1', 'EHH62566.1', 'KAK2099565.1', 'XP_026305623.1', 'XP_003923673.1', 'XP_037592648.1', 'XP_032141201.1', 'XP_035120681.2', 'NP_001287994.1', 'XP_032141200.1', 'XP_017378952.1', 'XP_012325807.1', 'XP_002754508.3', 'PNI65978.1', 'PNJ75652.1', 'XP_033063291.1', 'XP_003253299.1', 'XP_055129363.1', 'XP_017738489.1', 'XP_012510853.1', 'XP_008562861.1', 'XP_008573156.1']\n"
     ]
    }
   ],
   "source": [
    "# Extract the ID's from the QueryResult of BLASTP xml file\n",
    "blast_xml_file = 'domain_sequence_blastp_results.xml'\n",
    "def extract_id(blastp_xml):\n",
    "    accession_numbers = []\n",
    "    with open(blastp_xml, 'r') as result:\n",
    "        blast_records = NCBIXML.parse(result)\n",
    "        for blast_record in blast_records:\n",
    "            for alignment in blast_record.alignments:\n",
    "                for hsp in alignment.hsps:\n",
    "                    accession = alignment.hit_id.split('|')[1]\n",
    "                    accession_numbers.append(accession)\n",
    "    return accession_numbers\n",
    "accession_numbers = extract_id(blast_xml_file)\n",
    "print(accession_numbers)"
   ]
  },
  {
   "cell_type": "markdown",
   "id": "042e1828-c56a-4c75-9240-9d79444b8db8",
   "metadata": {
    "id": "042e1828-c56a-4c75-9240-9d79444b8db8"
   },
   "source": [
    "**(viii) Get 5 homologs sequences of different organisms**"
   ]
  },
  {
   "cell_type": "code",
   "execution_count": null,
   "id": "3214c1c8-f5c2-48b3-a7bb-d2c4b8e3d371",
   "metadata": {
    "colab": {
     "base_uri": "https://localhost:8080/"
    },
    "id": "3214c1c8-f5c2-48b3-a7bb-d2c4b8e3d371",
    "outputId": "19151c07-529f-42bf-d74e-0d0e2327f0dc"
   },
   "outputs": [
    {
     "name": "stdout",
     "output_type": "stream",
     "text": [
      "['BAA24381.1', 'XP_054297038.2', 'XP_004052272.4', 'XP_002822604.1', 'XP_032023519.1']\n"
     ]
    }
   ],
   "source": [
    "# Selecting the Specific ID's for Homologs Selection\n",
    "selected_proteins = [0, 4, 5, 6, 8]\n",
    "homologs_select = [accession_numbers[i] for i in selected_proteins]\n",
    "print (homologs_select)"
   ]
  },
  {
   "cell_type": "code",
   "execution_count": null,
   "id": "314db3a0-f385-4a2e-8aa1-7e668632fdda",
   "metadata": {
    "colab": {
     "base_uri": "https://localhost:8080/"
    },
    "id": "314db3a0-f385-4a2e-8aa1-7e668632fdda",
    "outputId": "d1d1c78a-5864-46bf-9827-8a2526fd873c"
   },
   "outputs": [
    {
     "data": {
      "text/plain": [
       "5"
      ]
     },
     "execution_count": 70,
     "metadata": {},
     "output_type": "execute_result"
    }
   ],
   "source": [
    "# Retrieve the Sequence of the Homologs by the selected ID's\n",
    "Entrez.email= 'user_email_id'\n",
    "homologs_search = Entrez.efetch (db ='protein', id = homologs_select , rettype='fasta', retmode='text')\n",
    "homologs_seq = SeqIO.parse (homologs_search, 'fasta')\n",
    "all_homologs_seq = [i for i in homologs_seq]\n",
    "len (all_homologs_seq)"
   ]
  },
  {
   "cell_type": "code",
   "execution_count": null,
   "id": "e147da0c-9daf-4435-b967-226fac719688",
   "metadata": {
    "id": "e147da0c-9daf-4435-b967-226fac719688"
   },
   "outputs": [],
   "source": [
    "# Exporting the Retrieved Sequence as Fasta File\n",
    "output = open('homologs.fasta', 'w')\n",
    "for i in all_homologs_seq:\n",
    "    SeqIO.write (i, output, 'fasta')\n",
    "output.close ()"
   ]
  },
  {
   "cell_type": "markdown",
   "id": "fbe29fca-bd60-4212-aed3-5c19d05e3bc9",
   "metadata": {
    "id": "fbe29fca-bd60-4212-aed3-5c19d05e3bc9"
   },
   "source": [
    "**(ix) Change the accession ids to organism name**"
   ]
  },
  {
   "cell_type": "code",
   "execution_count": null,
   "id": "4ac5a851-d897-4486-b72b-28e7454510c8",
   "metadata": {
    "colab": {
     "base_uri": "https://localhost:8080/"
    },
    "id": "4ac5a851-d897-4486-b72b-28e7454510c8",
    "outputId": "7c10fe9f-a348-4b52-cd84-bd122306e78f"
   },
   "outputs": [
    {
     "name": "stdout",
     "output_type": "stream",
     "text": [
      "{'BAA24381.1': 'Homo_sapiens', 'NP_009111.2': 'Homo_sapiens', 'XP_003820082.3': 'Pan_paniscus', 'XP_522200.2': 'Pan_troglodytes', 'XP_054297038.2': 'Pongo_pygmaeus', 'XP_004052272.4': 'Gorilla_gorilla_gorilla', 'XP_002822604.1': 'Pongo_abelii', 'XP_003253298.1': 'Nomascus_leucogenys', 'XP_032023519.1': 'Hylobates_moloch', 'XP_055129362.1': 'Symphalangus_syndactylus', 'XP_031508765.1': 'Papio_anubis', 'XP_011820281.1': 'Mandrillus_leucophaeus', 'XP_003910841.3': 'Papio_anubis', 'XP_011908381.1': 'Cercocebus_atys', 'XP_024646805.1': 'Macaca_nemestrina', 'XP_008019282.2': 'Chlorocebus_sabaeus', 'XP_014971362.2': 'Macaca_mulatta', 'XP_050614362.1': 'Macaca_thibetana_thibetana', 'XP_025211781.1': 'Theropithecus_gelada', 'XP_005579882.1': 'Macaca_fascicularis', 'XP_005579882.2': 'Macaca_fascicularis', 'EHH23488.1': 'Macaca_mulatta', 'XP_024646804.1': 'Macaca_nemestrina', 'XP_009185674.2': 'Papio_anubis', 'XP_028689880.1': 'Macaca_mulatta', 'XP_009185675.2': 'Papio_anubis', 'XP_050614364.1': 'Macaca_thibetana_thibetana', 'XP_011908382.1': 'Cercocebus_atys', 'XP_011782432.1': 'Colobus_angolensis_palliatus', 'EHH62566.1': 'Macaca_fascicularis', 'KAK2099565.1': 'Saguinus_oedipus', 'XP_026305623.1': 'Piliocolobus_tephrosceles', 'XP_003923673.1': 'Saimiri_boliviensis_boliviensis', 'XP_037592648.1': 'Cebus_imitator', 'XP_032141201.1': 'Sapajus_apella', 'XP_035120681.2': 'Callithrix_jacchus', 'NP_001287994.1': 'Homo_sapiens', 'XP_032141200.1': 'Sapajus_apella', 'XP_017378952.1': 'Cebus_imitator', 'XP_012325807.1': 'Aotus_nancymaae', 'XP_002754508.3': 'Callithrix_jacchus', 'PNI65978.1': 'Pan_troglodytes', 'PNJ75652.1': 'Pongo_abelii', 'XP_033063291.1': 'Trachypithecus_francoisi', 'XP_003253299.1': 'Nomascus_leucogenys', 'XP_055129363.1': 'Symphalangus_syndactylus', 'XP_011820282.1': 'Mandrillus_leucophaeus', 'XP_025211782.1': 'Theropithecus_gelada', 'XP_017738489.1': 'Rhinopithecus_bieti', 'XP_012510853.1': 'Propithecus_coquereli', 'XP_008562861.1': 'Galeopterus_variegatus', 'XP_008573156.1': 'Galeopterus_variegatus', 'XP_062949414.1': 'Cynocephalus_volans', 'XP_008061104.1': 'Carlito_syrichta', 'XP_045412298.1': 'Lemur_catta', 'XP_053449735.1': 'Nycticebus_coucang', 'XP_012629057.1': 'Microcebus_murinus', 'XP_058400720.1': 'Diceros_bicornis_minor', 'XP_012629059.1': 'Microcebus_murinus', 'XP_032977704.1': 'Rhinolophus_ferrumequinum', 'XP_032977703.1': 'Rhinolophus_ferrumequinum', 'XP_032977702.1': 'Rhinolophus_ferrumequinum', 'XP_019571827.1': 'Rhinolophus_sinicus', 'XP_054448333.1': 'Pteronotus_mesoamericanus', 'XP_003796890.1': 'Otolemur_garnettii', 'XP_028370326.1': 'Phyllostomus_discolor', 'XP_012806352.2': 'Jaculus_jaculus', 'XP_045692847.1': 'Phyllostomus_hastatus', 'XP_023499994.1': 'Equus_caballus', 'XP_020918604.1': 'Sus_scrofa', 'XP_047609739.1': 'Phacochoerus_africanus', 'XP_047609740.1': 'Phacochoerus_africanus', 'XP_019571826.1': 'Rhinolophus_sinicus', 'XP_011383167.1': 'Pteropus_vampyrus', 'QED12473.1': 'Trachops_cirrhosus', 'XP_039722519.1': 'Pteropus_giganteus', 'XP_008824160.1': 'Nannospalax_galili', 'XP_045653889.1': 'Ursus_americanus', 'XP_014640497.1': 'Ceratotherium_simum_simum', 'XP_008688228.2': 'Ursus_maritimus', 'XP_034521794.1': 'Ailuropoda_melanoleuca', 'XP_019503008.1': 'Hipposideros_armiger', 'XP_026361419.2': 'Ursus_arctos', 'XP_028689881.1': 'Macaca_mulatta', 'XP_031508766.1': 'Papio_anubis', 'XP_024903086.1': 'Pteropus_alecto', 'XP_045653887.1': 'Ursus_americanus', 'XP_050614363.1': 'Macaca_thibetana_thibetana', 'XP_058145162.1': 'Dasypus_novemcinctus', 'XP_007934648.1': 'Orycteropus_afer_afer', 'XP_028689882.1': 'Macaca_mulatta', 'XP_009185677.2': 'Papio_anubis', 'NP_001075759.1': 'Oryctolagus_cuniculus', 'XP_059123712.1': 'Peromyscus_eremicus', 'XP_047371966.1': 'Sciurus_carolinensis', 'XP_006152351.1': 'Tupaia_chinensis', 'XP_036848818.1': 'Manis_javanica', 'KAI5943284.1': 'Manis_javanica', 'XP_032767466.1': 'Rattus_rattus', 'XP_057346610.1': 'Manis_pentadactyla'}\n"
     ]
    }
   ],
   "source": [
    "#Create a dictionary with accession id as the key and organism name as the value\n",
    "org_name={}\n",
    "for i in open(\"homologs_headers.txt\"): # This txt file is created by all the ID's and name in the BlastP Result XML file\n",
    "  j= i.split(\"\t\t\")[0]\n",
    "  k= i.split(\"[\")[1].split(\"]\")[0]\n",
    "  if(j not in org_name):\n",
    "    org_name[j]=k\n",
    "\n",
    "print(org_name)"
   ]
  },
  {
   "cell_type": "code",
   "execution_count": null,
   "id": "d90c6bb2-63b9-40cb-8734-00af931aa14d",
   "metadata": {
    "id": "d90c6bb2-63b9-40cb-8734-00af931aa14d"
   },
   "outputs": [],
   "source": [
    "# Export the Fasta file by Changing the headers to Organism Name\n",
    "out=open(\"homologs_org_names.fasta\", 'w')\n",
    "for i in SeqIO.parse(\"homologs.fasta\" ,'fasta'):\n",
    "  j=i\n",
    "  i.id=org_name[j.id]\n",
    "  i.description=\"\"\n",
    "  SeqIO.write(i,out,'fasta')\n",
    "\n",
    "out.close()"
   ]
  },
  {
   "cell_type": "markdown",
   "id": "B7D_isslT8fR",
   "metadata": {
    "id": "B7D_isslT8fR"
   },
   "source": [
    "**(x) Do MSA using clustal Omega**"
   ]
  },
  {
   "cell_type": "code",
   "execution_count": null,
   "id": "xI9yHSKMRfdI",
   "metadata": {
    "colab": {
     "base_uri": "https://localhost:8080/"
    },
    "id": "xI9yHSKMRfdI",
    "outputId": "692ffcaa-c97d-4c66-9f1a-f5782f1fd5b8"
   },
   "outputs": [
    {
     "name": "stdout",
     "output_type": "stream",
     "text": [
      "Alignment with 5 rows and 583 columns\n",
      "MPGRTWELCLLLLLGLGLGSQEALPPPCESEIYCHGELLHQVQM...LPW Hylobates_moloch\n",
      "MPGRTWELCLLLLLGLGLRSQEALPPPCESEIYCHGELLHQVQM...LPQ Pongo_pygmaeus\n",
      "MPGRTWELCLLLLLGLGLRSQEALSPPCESEIYCHGELLHQVQM...LPQ Pongo_abelii\n",
      "MPGRTWELCLLLLLGLGLGSQEALPPPCESEIYCHGELLNQVQM...LPW Homo_sapiens\n",
      "MPGRTWELCLLLLLGLGPGSQEALPPPCESEIYCHGELLNQVQM...LPR Gorilla_gorilla_gorilla\n"
     ]
    }
   ],
   "source": [
    "# Analyze the Alignment File from the Clustal Omega Website\n",
    "from Bio import AlignIO\n",
    "from io import StringIO\n",
    "\n",
    "def read_aln_clustal_num(filename):\n",
    "  with open(filename) as handle:\n",
    "    lines = handle.readlines()\n",
    "  alignment_lines = [line for line in lines if not line.startswith(';')]\n",
    "  try:\n",
    "    alignment = AlignIO.read(StringIO(''.join(alignment_lines)), \"clustal\")\n",
    "    return alignment\n",
    "  except ValueError:\n",
    "    # Handle potential parsing errors\n",
    "    print(f\"Error parsing {filename}\")\n",
    "    return None\n",
    "\n",
    "# Example usage\n",
    "alignment = read_aln_clustal_num(\"clustalo-I20240504-163627-0753-24191988-p1m.aln-clustal_num\")\n",
    "\n",
    "print (alignment)"
   ]
  }
 ],
 "metadata": {
  "colab": {
   "provenance": []
  },
  "kernelspec": {
   "display_name": "Python 3 (ipykernel)",
   "language": "python",
   "name": "python3"
  },
  "language_info": {
   "codemirror_mode": {
    "name": "ipython",
    "version": 3
   },
   "file_extension": ".py",
   "mimetype": "text/x-python",
   "name": "python",
   "nbconvert_exporter": "python",
   "pygments_lexer": "ipython3",
   "version": "3.12.4"
  }
 },
 "nbformat": 4,
 "nbformat_minor": 5
}
